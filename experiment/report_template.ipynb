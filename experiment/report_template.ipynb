<%! import os %>
<%! import glob %>
<% path = os.path.join(savedir, 'raw_results_*.csv') %>
<% files = [file.replace(savedir + '/', '') for file in glob.glob(path)] %>
<% datasets = [file[len('raw_results_'):] for file in files] %>
{
 "cells": [
  {
   "cell_type": "code",
   "execution_count": null,
   "metadata": {
    "collapsed": true
   },
   "outputs": [],
   "source": [
    "%load_ext autoreload\n",
    "%autoreload 2\n",
    "\n",
    "%matplotlib inline"
   ]
  },
  {
   "cell_type": "code",
   "execution_count": null,
   "metadata": {},
   "outputs": [],
   "source": [
    "import re\n",
    "import os\n",
    "\n",
    "import zipfile\n",
    "import pandas as pd\n",
    "import numpy as np\n",
    "import seaborn as sns\n",
    "\n",
    "import matplotlib.pyplot as plt\n",
    "from sklearn.metrics import f1_score, confusion_matrix\n",
    "\n",
    "import glob\n",
    "\n",
    "from crm.model.evaluation import classification_report, evaluate_results"
   ]
  },
  % for i, f in enumerate(zip(files, datasets)):
    ${makereport(f[0], f[1], i == len(files) - 1)}
  % endfor
<%def name="makereport(file, dataset, islast)">
  { 
   "cell_type": "markdown",
   "metadata": {},
   "source": [
    "# ${dataset.replace('.csv','').title()} set\n",
    "\n",
    "## Loading result file"
   ]
  },

  {
   "cell_type": "code",
   "execution_count": null,
   "metadata": {},
   "outputs": [],
   "source": [
    "df = pd.read_csv('${file}')\n",
    "\n",
    "classes = np.unique(df.y_true)"
   ]
  },
  {
   "cell_type": "markdown",
   "metadata": {},
   "source": [
    "## Classification Report"
   ]
  },
  {
   "cell_type": "code",
   "execution_count": null,
   "metadata": {},
   "outputs": [],
   "source": [
    "classification_report(df.y_true, df.y_pred, \n",
    "                        target_names=classes)"
   ]
  },
  {
   "cell_type": "markdown",
   "metadata": {},
   "source": [
    "## Confusion Matrix"
   ]
  },
  {
   "cell_type": "code",
   "execution_count": null,
   "metadata": {
    "scrolled": false
   },
   "outputs": [],
   "source": [
    "pd.DataFrame(confusion_matrix(df.y_true, df.y_pred),\n",
    "             index=classes, columns=classes)"
   ]
  },
  {
   "cell_type": "markdown",
   "metadata": {},
   "source": [
    "## Metrics"
   ]
  },
  {
   "cell_type": "code",
   "execution_count": null,
   "metadata": {
    "scrolled": false
   },
   "outputs": [],
   "source": [
    "metrics = evaluate_results(df, metrics=['recall_micro', 'recall_macro'])\n",
    "metrics.agg(['mean', 'std'])"
   ]
  } 
  %if not islast:
    , 
  %endif
</%def>
 ],
 "metadata": {
  "kernelspec": {
   "display_name": "Python 3",
   "language": "python",
   "name": "python3"
  },
  "language_info": {
   "codemirror_mode": {
    "name": "ipython",
    "version": 3
   },
   "file_extension": ".py",
   "mimetype": "text/x-python",
   "name": "python",
   "nbconvert_exporter": "python",
   "pygments_lexer": "ipython3",
   "version": "3.5.2"
  }
 },
 "nbformat": 4,
 "nbformat_minor": 2
}
